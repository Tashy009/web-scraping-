{
  "nbformat": 4,
  "nbformat_minor": 0,
  "metadata": {
    "colab": {
      "name": "Week2 assignment.ipynb",
      "provenance": [],
      "collapsed_sections": [],
      "authorship_tag": "ABX9TyOcpqhy9o7nRgOm3DNp05Dh",
      "include_colab_link": true
    },
    "kernelspec": {
      "name": "python3",
      "display_name": "Python 3"
    }
  },
  "cells": [
    {
      "cell_type": "markdown",
      "metadata": {
        "id": "view-in-github",
        "colab_type": "text"
      },
      "source": [
        "<a href=\"https://colab.research.google.com/github/Tashy009/web-scraping-/blob/main/Week2_assignment.ipynb\" target=\"_parent\"><img src=\"https://colab.research.google.com/assets/colab-badge.svg\" alt=\"Open In Colab\"/></a>"
      ]
    },
    {
      "cell_type": "markdown",
      "metadata": {
        "id": "eU4ef0Q279Ro"
      },
      "source": [
        "# import library"
      ]
    },
    {
      "cell_type": "code",
      "metadata": {
        "colab": {
          "base_uri": "https://localhost:8080/"
        },
        "id": "HEeKBq8cBUth",
        "outputId": "2102277e-e40e-4ef7-a70d-084d074543ff"
      },
      "source": [
        " pip install bs4"
      ],
      "execution_count": 26,
      "outputs": [
        {
          "output_type": "stream",
          "text": [
            "Requirement already satisfied: bs4 in /usr/local/lib/python3.6/dist-packages (0.0.1)\n",
            "Requirement already satisfied: beautifulsoup4 in /usr/local/lib/python3.6/dist-packages (from bs4) (4.6.3)\n"
          ],
          "name": "stdout"
        }
      ]
    },
    {
      "cell_type": "code",
      "metadata": {
        "colab": {
          "base_uri": "https://localhost:8080/"
        },
        "id": "WQkFlWWQBfK7",
        "outputId": "8b9ec110-6d01-4c3d-caac-e6da308c9545"
      },
      "source": [
        "pip install pandas"
      ],
      "execution_count": 27,
      "outputs": [
        {
          "output_type": "stream",
          "text": [
            "Requirement already satisfied: pandas in /usr/local/lib/python3.6/dist-packages (1.1.5)\n",
            "Requirement already satisfied: numpy>=1.15.4 in /usr/local/lib/python3.6/dist-packages (from pandas) (1.19.5)\n",
            "Requirement already satisfied: pytz>=2017.2 in /usr/local/lib/python3.6/dist-packages (from pandas) (2018.9)\n",
            "Requirement already satisfied: python-dateutil>=2.7.3 in /usr/local/lib/python3.6/dist-packages (from pandas) (2.8.1)\n",
            "Requirement already satisfied: six>=1.5 in /usr/local/lib/python3.6/dist-packages (from python-dateutil>=2.7.3->pandas) (1.15.0)\n"
          ],
          "name": "stdout"
        }
      ]
    },
    {
      "cell_type": "code",
      "metadata": {
        "colab": {
          "base_uri": "https://localhost:8080/"
        },
        "id": "IFJs6aRBBlqs",
        "outputId": "2c49fd2a-8a6d-4bf9-ecf8-168ab8967fa9"
      },
      "source": [
        "pip install requests"
      ],
      "execution_count": 28,
      "outputs": [
        {
          "output_type": "stream",
          "text": [
            "Requirement already satisfied: requests in /usr/local/lib/python3.6/dist-packages (2.23.0)\n",
            "Requirement already satisfied: chardet<4,>=3.0.2 in /usr/local/lib/python3.6/dist-packages (from requests) (3.0.4)\n",
            "Requirement already satisfied: certifi>=2017.4.17 in /usr/local/lib/python3.6/dist-packages (from requests) (2020.12.5)\n",
            "Requirement already satisfied: idna<3,>=2.5 in /usr/local/lib/python3.6/dist-packages (from requests) (2.10)\n",
            "Requirement already satisfied: urllib3!=1.25.0,!=1.25.1,<1.26,>=1.21.1 in /usr/local/lib/python3.6/dist-packages (from requests) (1.24.3)\n"
          ],
          "name": "stdout"
        }
      ]
    },
    {
      "cell_type": "code",
      "metadata": {
        "id": "Wsi73Teu77Sa"
      },
      "source": [
        "from bs4 import BeautifulSoup as bs\n",
        "import requests\n",
        "import pandas as pd"
      ],
      "execution_count": 29,
      "outputs": []
    },
    {
      "cell_type": "markdown",
      "metadata": {
        "id": "IrAr67z07ygk"
      },
      "source": [
        "# Get the contents"
      ]
    },
    {
      "cell_type": "code",
      "metadata": {
        "id": "Boh2C6a4C9vH"
      },
      "source": [
        "r = requests.get(\"https://books.toscrape.com/index.html\")\n",
        " \n",
        "soup = bs(r.content)"
      ],
      "execution_count": 56,
      "outputs": []
    },
    {
      "cell_type": "markdown",
      "metadata": {
        "id": "42Da1IsNDuGM"
      },
      "source": [
        "# Getting the different webpage"
      ]
    },
    {
      "cell_type": "code",
      "metadata": {
        "id": "xxyAwi8uDzd7"
      },
      "source": [
        "webpage = soup.find(\"ul\", {\"class\":\"nav nav-list\"})\n",
        " \n",
        "webpageList= webpage.find_all(\"a\")\n",
        " \n",
        "Links =[ link['href'] for link in webpageList]"
      ],
      "execution_count": 57,
      "outputs": []
    },
    {
      "cell_type": "markdown",
      "metadata": {
        "id": "kIf54XIuY3_s"
      },
      "source": [
        "## Joining the URL"
      ]
    },
    {
      "cell_type": "code",
      "metadata": {
        "id": "up1MGwc3Y8cv"
      },
      "source": [
        "import re\n",
        "URL = \"https://books.toscrape.com/\"\n",
        "names = []\n",
        "image_URL = []\n",
        "price_ = []\n",
        "star_rating = []\n",
        "for link in Links[1: ]:\n",
        "    full_URL = URL + link\n",
        "    page = requests.get(full_URL)\n",
        "    bs_page = bs(page.content)\n",
        "    title = bs_page.find_all(\"h3\")\n",
        "    name = [t.a[\"title\"] for t in title]\n",
        "    names.append(name)\n",
        "    ImgUrl = bs_page.find_all(\"div\", {\"class\":\"image_container\"})\n",
        "    ImgUrl1 = [b.a['href'] for b in ImgUrl]\n",
        "    ImgUrl2 = [img.replace('../../../', 'https://books.toscrape.com/catalogue/') for img in ImgUrl1] \n",
        "    image_URL.append(ImgUrl2)\n",
        "    \n",
        "    price = bs_page.find_all(\"p\", {\"class\":\"price_color\"})\n",
        "    price1 = [p.get_text() for p in price]\n",
        "    price_.append(price1)\n",
        " \n",
        " \n",
        "    Rating = [r.find_next_sibling(\"p\")['class'][1] for r in ImgUrl]\n",
        "    star_rating.append(Rating)"
      ],
      "execution_count": 58,
      "outputs": []
    },
    {
      "cell_type": "markdown",
      "metadata": {
        "id": "uHPMWogh_JHD"
      },
      "source": [
        " ## compile the list and creating a dictionary"
      ]
    },
    {
      "cell_type": "code",
      "metadata": {
        "id": "UZVdjDlL_UUE"
      },
      "source": [
        "nme = [n for sublist in names for n in sublist]\n",
        " \n",
        "Img_url = [n for sublist in image_URL for n in sublist]\n",
        " \n",
        "pri = [n for sublist in price_ for n in sublist]\n",
        " \n",
        "star_rtg = [n for sublist in star_rating for n in sublist]"
      ],
      "execution_count": 59,
      "outputs": []
    },
    {
      "cell_type": "code",
      "metadata": {
        "id": "AEH11Ig0B9WJ"
      },
      "source": [
        "dict = {'name' : nme, 'image URL' : Img_url, 'price': pri, 'star rating': star_rtg}"
      ],
      "execution_count": 60,
      "outputs": []
    },
    {
      "cell_type": "markdown",
      "metadata": {
        "id": "X4Fy9vFfDAHz"
      },
      "source": [
        " ## pandas dataframe"
      ]
    },
    {
      "cell_type": "code",
      "metadata": {
        "colab": {
          "base_uri": "https://localhost:8080/",
          "height": 882
        },
        "id": "cviN_8SIDF4H",
        "outputId": "909b2acf-771e-4297-899c-973214e39d58"
      },
      "source": [
        "df = pd.DataFrame(dict)\n",
        "df"
      ],
      "execution_count": 61,
      "outputs": [
        {
          "output_type": "execute_result",
          "data": {
            "text/html": [
              "<div>\n",
              "<style scoped>\n",
              "    .dataframe tbody tr th:only-of-type {\n",
              "        vertical-align: middle;\n",
              "    }\n",
              "\n",
              "    .dataframe tbody tr th {\n",
              "        vertical-align: top;\n",
              "    }\n",
              "\n",
              "    .dataframe thead th {\n",
              "        text-align: right;\n",
              "    }\n",
              "</style>\n",
              "<table border=\"1\" class=\"dataframe\">\n",
              "  <thead>\n",
              "    <tr style=\"text-align: right;\">\n",
              "      <th></th>\n",
              "      <th>name</th>\n",
              "      <th>image URL</th>\n",
              "      <th>price</th>\n",
              "      <th>star rating</th>\n",
              "    </tr>\n",
              "  </thead>\n",
              "  <tbody>\n",
              "    <tr>\n",
              "      <th>0</th>\n",
              "      <td>It's Only the Himalayas</td>\n",
              "      <td>https://books.toscrape.com/catalogue/its-only-...</td>\n",
              "      <td>£45.17</td>\n",
              "      <td>Two</td>\n",
              "    </tr>\n",
              "    <tr>\n",
              "      <th>1</th>\n",
              "      <td>Full Moon over Noah’s Ark: An Odyssey to Mount...</td>\n",
              "      <td>https://books.toscrape.com/catalogue/full-moon...</td>\n",
              "      <td>£49.43</td>\n",
              "      <td>Four</td>\n",
              "    </tr>\n",
              "    <tr>\n",
              "      <th>2</th>\n",
              "      <td>See America: A Celebration of Our National Par...</td>\n",
              "      <td>https://books.toscrape.com/catalogue/see-ameri...</td>\n",
              "      <td>£48.87</td>\n",
              "      <td>Three</td>\n",
              "    </tr>\n",
              "    <tr>\n",
              "      <th>3</th>\n",
              "      <td>Vagabonding: An Uncommon Guide to the Art of L...</td>\n",
              "      <td>https://books.toscrape.com/catalogue/vagabondi...</td>\n",
              "      <td>£36.94</td>\n",
              "      <td>Two</td>\n",
              "    </tr>\n",
              "    <tr>\n",
              "      <th>4</th>\n",
              "      <td>Under the Tuscan Sun</td>\n",
              "      <td>https://books.toscrape.com/catalogue/under-the...</td>\n",
              "      <td>£37.33</td>\n",
              "      <td>Three</td>\n",
              "    </tr>\n",
              "    <tr>\n",
              "      <th>...</th>\n",
              "      <td>...</td>\n",
              "      <td>...</td>\n",
              "      <td>...</td>\n",
              "      <td>...</td>\n",
              "    </tr>\n",
              "    <tr>\n",
              "      <th>512</th>\n",
              "      <td>Why the Right Went Wrong: Conservatism--From G...</td>\n",
              "      <td>https://books.toscrape.com/catalogue/why-the-r...</td>\n",
              "      <td>£52.65</td>\n",
              "      <td>Four</td>\n",
              "    </tr>\n",
              "    <tr>\n",
              "      <th>513</th>\n",
              "      <td>Equal Is Unfair: America's Misguided Fight Aga...</td>\n",
              "      <td>https://books.toscrape.com/catalogue/equal-is-...</td>\n",
              "      <td>£56.86</td>\n",
              "      <td>One</td>\n",
              "    </tr>\n",
              "    <tr>\n",
              "      <th>514</th>\n",
              "      <td>Amid the Chaos</td>\n",
              "      <td>https://books.toscrape.com/catalogue/amid-the-...</td>\n",
              "      <td>£36.58</td>\n",
              "      <td>One</td>\n",
              "    </tr>\n",
              "    <tr>\n",
              "      <th>515</th>\n",
              "      <td>Dark Notes</td>\n",
              "      <td>https://books.toscrape.com/catalogue/dark-note...</td>\n",
              "      <td>£19.19</td>\n",
              "      <td>Five</td>\n",
              "    </tr>\n",
              "    <tr>\n",
              "      <th>516</th>\n",
              "      <td>The Long Shadow of Small Ghosts: Murder and Me...</td>\n",
              "      <td>https://books.toscrape.com/catalogue/the-long-...</td>\n",
              "      <td>£10.97</td>\n",
              "      <td>One</td>\n",
              "    </tr>\n",
              "  </tbody>\n",
              "</table>\n",
              "<p>517 rows × 4 columns</p>\n",
              "</div>"
            ],
            "text/plain": [
              "                                                  name  ... star rating\n",
              "0                              It's Only the Himalayas  ...         Two\n",
              "1    Full Moon over Noah’s Ark: An Odyssey to Mount...  ...        Four\n",
              "2    See America: A Celebration of Our National Par...  ...       Three\n",
              "3    Vagabonding: An Uncommon Guide to the Art of L...  ...         Two\n",
              "4                                 Under the Tuscan Sun  ...       Three\n",
              "..                                                 ...  ...         ...\n",
              "512  Why the Right Went Wrong: Conservatism--From G...  ...        Four\n",
              "513  Equal Is Unfair: America's Misguided Fight Aga...  ...         One\n",
              "514                                     Amid the Chaos  ...         One\n",
              "515                                         Dark Notes  ...        Five\n",
              "516  The Long Shadow of Small Ghosts: Murder and Me...  ...         One\n",
              "\n",
              "[517 rows x 4 columns]"
            ]
          },
          "metadata": {
            "tags": []
          },
          "execution_count": 61
        }
      ]
    }
  ]
}